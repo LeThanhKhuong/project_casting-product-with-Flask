{
 "cells": [
  {
   "cell_type": "code",
   "execution_count": 6,
   "metadata": {},
   "outputs": [
    {
     "name": "stderr",
     "output_type": "stream",
     "text": [
      "ERROR:root:Internal Python error in the inspect module.\n",
      "Below is the traceback from this internal error.\n",
      "\n"
     ]
    },
    {
     "name": "stdout",
     "output_type": "stream",
     "text": [
      "Traceback (most recent call last):\n",
      "  File \"C:\\Users\\LTK\\Anaconda3\\lib\\site-packages\\IPython\\core\\interactiveshell.py\", line 2910, in run_code\n",
      "    exec(code_obj, self.user_global_ns, self.user_ns)\n",
      "  File \"<ipython-input-6-9a4e0ed56c05>\", line 14, in <module>\n",
      "    model = load_model(model_path)\n",
      "  File \"C:\\Users\\LTK\\Anaconda3\\lib\\site-packages\\tensorflow_core\\python\\keras\\saving\\save.py\", line 146, in load_model\n",
      "    return hdf5_format.load_model_from_hdf5(filepath, custom_objects, compile)\n",
      "  File \"C:\\Users\\LTK\\Anaconda3\\lib\\site-packages\\tensorflow_core\\python\\keras\\saving\\hdf5_format.py\", line 166, in load_model_from_hdf5\n",
      "    model_config = json.loads(model_config.decode('utf-8'))\n",
      "AttributeError: 'str' object has no attribute 'decode'\n",
      "\n",
      "During handling of the above exception, another exception occurred:\n",
      "\n",
      "Traceback (most recent call last):\n",
      "  File \"C:\\Users\\LTK\\Anaconda3\\lib\\site-packages\\IPython\\core\\interactiveshell.py\", line 1828, in showtraceback\n",
      "    stb = value._render_traceback_()\n",
      "AttributeError: 'AttributeError' object has no attribute '_render_traceback_'\n",
      "\n",
      "During handling of the above exception, another exception occurred:\n",
      "\n",
      "Traceback (most recent call last):\n",
      "  File \"C:\\Users\\LTK\\Anaconda3\\lib\\site-packages\\IPython\\core\\ultratb.py\", line 1090, in get_records\n",
      "    return _fixed_getinnerframes(etb, number_of_lines_of_context, tb_offset)\n",
      "  File \"C:\\Users\\LTK\\Anaconda3\\lib\\site-packages\\IPython\\core\\ultratb.py\", line 311, in wrapped\n",
      "    return f(*args, **kwargs)\n",
      "  File \"C:\\Users\\LTK\\Anaconda3\\lib\\site-packages\\IPython\\core\\ultratb.py\", line 345, in _fixed_getinnerframes\n",
      "    records = fix_frame_records_filenames(inspect.getinnerframes(etb, context))\n",
      "  File \"C:\\Users\\LTK\\Anaconda3\\lib\\inspect.py\", line 1483, in getinnerframes\n",
      "    frameinfo = (tb.tb_frame,) + getframeinfo(tb, context)\n",
      "  File \"C:\\Users\\LTK\\Anaconda3\\lib\\inspect.py\", line 1441, in getframeinfo\n",
      "    filename = getsourcefile(frame) or getfile(frame)\n",
      "  File \"C:\\Users\\LTK\\Anaconda3\\lib\\inspect.py\", line 696, in getsourcefile\n",
      "    if getattr(getmodule(object, filename), '__loader__', None) is not None:\n",
      "  File \"C:\\Users\\LTK\\Anaconda3\\lib\\inspect.py\", line 733, in getmodule\n",
      "    if ismodule(module) and hasattr(module, '__file__'):\n",
      "  File \"C:\\Users\\LTK\\Anaconda3\\lib\\site-packages\\tensorflow\\__init__.py\", line 50, in __getattr__\n",
      "    module = self._load()\n",
      "  File \"C:\\Users\\LTK\\Anaconda3\\lib\\site-packages\\tensorflow\\__init__.py\", line 44, in _load\n",
      "    module = _importlib.import_module(self.__name__)\n",
      "  File \"C:\\Users\\LTK\\Anaconda3\\lib\\importlib\\__init__.py\", line 126, in import_module\n",
      "    return _bootstrap._gcd_import(name[level:], package, level)\n",
      "  File \"<frozen importlib._bootstrap>\", line 994, in _gcd_import\n",
      "  File \"<frozen importlib._bootstrap>\", line 971, in _find_and_load\n",
      "  File \"<frozen importlib._bootstrap>\", line 953, in _find_and_load_unlocked\n",
      "ModuleNotFoundError: No module named 'tensorflow_core.estimator'\n"
     ]
    },
    {
     "ename": "AttributeError",
     "evalue": "'str' object has no attribute 'decode'",
     "output_type": "error",
     "traceback": [
      "\u001b[1;31m---------------------------------------------------------------------------\u001b[0m"
     ]
    }
   ],
   "source": [
    "from flask import Flask, render_template, request\n",
    "#from keras.applications import ResNet50\n",
    "\n",
    "from tensorflow.keras.models import load_model\n",
    "import tensorflow as tf\n",
    "import cv2\n",
    "import numpy as np\n",
    "import pandas as pd\n",
    "\n",
    "app = Flask(__name__)\n",
    "model_path = 'D:\\AI\\Computer-Vision_2021\\project_casting-product\\model_predict.h5'\n",
    "##resnet = ResNet50(weights='imagenet',input_shape=(224,224,3),pooling='avg')\n",
    "#print(\"+\"*50, \"Model is loaded\")\n",
    "model = load_model(model_path)\n",
    "\n",
    "#labels = pd.read_csv(\"labels.txt\", sep=\"\\n\").values\n",
    "\n",
    "\n",
    "def index():\n",
    "\treturn render_template(\"index.html\", data=\"hey\")\n",
    "\n",
    "\n",
    "@app.route(\"/prediction\", methods=[\"POST\"])\n",
    "def prediction():\n",
    "\n",
    "\timg = request.files['img']\n",
    "\n",
    "\timg.save(\"img.jpg\")\n",
    "\n",
    "\timage = cv2.imread(\"img.jpg\")\n",
    "\n",
    "\t#image = cv2.cvtColor(image, cv2.COLOR_BGR2RGB)\n",
    "\n",
    "\timage = np.reshape(image, (1,300,300,3))\n",
    "\n",
    "\tpred = model.predict(image)\n",
    "\n",
    "\tpred = np.argmax(pred)\n",
    "\tresult = ['Ok_data', 'Error_data']\n",
    "\tif pred < 0.5:\n",
    "\t\tprint(result[0])\n",
    "\telse:\n",
    "\t\tprint(result[1])\n",
    "\t\n",
    "\n",
    "\treturn render_template(\"prediction.html\", data=pred)\n",
    "\n",
    "\n",
    "if __name__ == \"__main__\":\n",
    "\tapp.run(debug=True)\n"
   ]
  }
 ],
 "metadata": {
  "interpreter": {
   "hash": "1546965ebe558b33ad556846cda55c9f67c7b2bdfe3670600ddc997074030af3"
  },
  "kernelspec": {
   "display_name": "Python 3.6.4 64-bit ('base': conda)",
   "language": "python",
   "name": "python3"
  },
  "language_info": {
   "codemirror_mode": {
    "name": "ipython",
    "version": 3
   },
   "file_extension": ".py",
   "mimetype": "text/x-python",
   "name": "python",
   "nbconvert_exporter": "python",
   "pygments_lexer": "ipython3",
   "version": "3.6.4"
  },
  "orig_nbformat": 4
 },
 "nbformat": 4,
 "nbformat_minor": 2
}
